{
 "cells": [
  {
   "cell_type": "code",
   "execution_count": 2,
   "id": "f934acae-c27c-45d1-bc52-e1a9d23babb6",
   "metadata": {},
   "outputs": [
    {
     "name": "stderr",
     "output_type": "stream",
     "text": [
      "I0000 00:00:1737358028.120472   59646 gl_context.cc:369] GL version: 2.1 (2.1 Metal - 88.1), renderer: Apple M3\n",
      "W0000 00:00:1737358028.133946   63601 inference_feedback_manager.cc:114] Feedback manager requires a model with a single signature inference. Disabling support for feedback tensors.\n",
      "W0000 00:00:1737358028.138429   63606 inference_feedback_manager.cc:114] Feedback manager requires a model with a single signature inference. Disabling support for feedback tensors.\n"
     ]
    }
   ],
   "source": [
    "import cv2\n",
    "import mediapipe as mp\n",
    "import pyautogui\n",
    "\n",
    "mp_hands = mp.solutions.hands\n",
    "mp_drawing = mp.solutions.drawing_utils\n",
    "hands = mp_hands.Hands(min_detection_confidence=0.7, min_tracking_confidence=0.7)\n",
    "\n",
    "cap = cv2.VideoCapture(0)\n",
    "\n",
    "\n",
    "active_key = None\n",
    "\n",
    "def get_direction(landmarks, width, height):\n",
    "    \n",
    "    x_index = landmarks[mp_hands.HandLandmark.INDEX_FINGER_TIP].x * width\n",
    "    y_index = landmarks[mp_hands.HandLandmark.INDEX_FINGER_TIP].y * height\n",
    "\n",
    "    if y_index < height // 3:\n",
    "        return \"UP\"\n",
    "    elif y_index > 2 * height // 3:\n",
    "        return \"DOWN\"\n",
    "    elif x_index < width // 3:\n",
    "        return \"LEFT\"\n",
    "    elif x_index > 2 * width // 3:\n",
    "        return \"RIGHT\"\n",
    "    return None\n",
    "\n",
    "while True:\n",
    "    ret, frame = cap.read()\n",
    "    if not ret:\n",
    "        break\n",
    "\n",
    "    \n",
    "    frame = cv2.flip(frame, 1)\n",
    "    height, width, _ = frame.shape\n",
    "    rgb_frame = cv2.cvtColor(frame, cv2.COLOR_BGR2RGB)\n",
    "    result = hands.process(rgb_frame)\n",
    "\n",
    "    if result.multi_hand_landmarks:\n",
    "        for hand_landmarks in result.multi_hand_landmarks:\n",
    "           \n",
    "            direction = get_direction(hand_landmarks.landmark, width, height)\n",
    "\n",
    "            if direction:\n",
    "                if active_key != direction:  \n",
    "                    if active_key:  \n",
    "                        pyautogui.keyUp(active_key.lower())\n",
    "                    pyautogui.keyDown(direction.lower())  \n",
    "                    active_key = direction\n",
    "            else:\n",
    "               \n",
    "                if active_key:\n",
    "                    pyautogui.keyUp(active_key.lower())\n",
    "                    active_key = None\n",
    "    else:\n",
    "       \n",
    "        if active_key:\n",
    "            pyautogui.keyUp(active_key.lower())\n",
    "            active_key = None\n",
    "\n",
    "   \n",
    "    current_action = f\"Moving {active_key}\" if active_key else \"No Action\"\n",
    "    cv2.putText(frame, f\"Action: {current_action}\", (10, 50), cv2.FONT_HERSHEY_SIMPLEX, 1, (0, 255, 0), 2, cv2.LINE_AA)\n",
    "\n",
    "    cv2.imshow(\"Game Controller\", frame)\n",
    "\n",
    "    if cv2.waitKey(1) & 0xFF == ord('q'):\n",
    "        break\n",
    "\n",
    "\n",
    "if active_key:\n",
    "    pyautogui.keyUp(active_key.lower())\n",
    "\n",
    "cap.release()\n",
    "cv2.destroyAllWindows()"
   ]
  },
  {
   "cell_type": "code",
   "execution_count": null,
   "id": "22989f44-4e7f-4fdf-bdef-5c21b5989c8b",
   "metadata": {},
   "outputs": [],
   "source": []
  },
  {
   "cell_type": "code",
   "execution_count": null,
   "id": "f7231189-5d73-4a23-adae-c808c729c834",
   "metadata": {},
   "outputs": [],
   "source": []
  }
 ],
 "metadata": {
  "kernelspec": {
   "display_name": "Python 3 (ipykernel)",
   "language": "python",
   "name": "python3"
  },
  "language_info": {
   "codemirror_mode": {
    "name": "ipython",
    "version": 3
   },
   "file_extension": ".py",
   "mimetype": "text/x-python",
   "name": "python",
   "nbconvert_exporter": "python",
   "pygments_lexer": "ipython3",
   "version": "3.12.7"
  }
 },
 "nbformat": 4,
 "nbformat_minor": 5
}
